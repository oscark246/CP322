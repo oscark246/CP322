{
  "cells": [
    {
      "cell_type": "code",
      "execution_count": 2,
      "metadata": {
        "id": "ElfTZ8zjmAcE",
        "colab": {
          "base_uri": "https://localhost:8080/"
        },
        "outputId": "aa4898e1-fc8e-4917-de58-bb9df04a6ad2"
      },
      "outputs": [
        {
          "output_type": "stream",
          "name": "stdout",
          "text": [
            "Requirement already satisfied: scikit-learn in /usr/local/lib/python3.10/dist-packages (1.5.2)\n",
            "Requirement already satisfied: numpy>=1.19.5 in /usr/local/lib/python3.10/dist-packages (from scikit-learn) (1.26.4)\n",
            "Requirement already satisfied: scipy>=1.6.0 in /usr/local/lib/python3.10/dist-packages (from scikit-learn) (1.13.1)\n",
            "Requirement already satisfied: joblib>=1.2.0 in /usr/local/lib/python3.10/dist-packages (from scikit-learn) (1.4.2)\n",
            "Requirement already satisfied: threadpoolctl>=3.1.0 in /usr/local/lib/python3.10/dist-packages (from scikit-learn) (3.5.0)\n",
            "Collecting ucimlrepo\n",
            "  Downloading ucimlrepo-0.0.7-py3-none-any.whl.metadata (5.5 kB)\n",
            "Requirement already satisfied: pandas>=1.0.0 in /usr/local/lib/python3.10/dist-packages (from ucimlrepo) (2.2.2)\n",
            "Requirement already satisfied: certifi>=2020.12.5 in /usr/local/lib/python3.10/dist-packages (from ucimlrepo) (2024.8.30)\n",
            "Requirement already satisfied: numpy>=1.22.4 in /usr/local/lib/python3.10/dist-packages (from pandas>=1.0.0->ucimlrepo) (1.26.4)\n",
            "Requirement already satisfied: python-dateutil>=2.8.2 in /usr/local/lib/python3.10/dist-packages (from pandas>=1.0.0->ucimlrepo) (2.8.2)\n",
            "Requirement already satisfied: pytz>=2020.1 in /usr/local/lib/python3.10/dist-packages (from pandas>=1.0.0->ucimlrepo) (2024.2)\n",
            "Requirement already satisfied: tzdata>=2022.7 in /usr/local/lib/python3.10/dist-packages (from pandas>=1.0.0->ucimlrepo) (2024.2)\n",
            "Requirement already satisfied: six>=1.5 in /usr/local/lib/python3.10/dist-packages (from python-dateutil>=2.8.2->pandas>=1.0.0->ucimlrepo) (1.16.0)\n",
            "Downloading ucimlrepo-0.0.7-py3-none-any.whl (8.0 kB)\n",
            "Installing collected packages: ucimlrepo\n",
            "Successfully installed ucimlrepo-0.0.7\n"
          ]
        }
      ],
      "source": [
        "!pip install scikit-learn\n",
        "!pip install ucimlrepo\n",
        "import pandas as pd\n",
        "import numpy as np\n",
        "import matplotlib.pyplot as plt\n",
        "from sklearn.model_selection import train_test_split\n",
        "from ucimlrepo import fetch_ucirepo"
      ]
    },
    {
      "cell_type": "code",
      "execution_count": 3,
      "metadata": {
        "id": "S2vhym9ZsWLx"
      },
      "outputs": [],
      "source": [
        "# Logistic Regression\n",
        "class LogisticRegression:\n",
        "  def __init__(self, lr=0.001, n_iters=1000):\n",
        "    self.lr = lr\n",
        "    self.n_iters = n_iters\n",
        "    self.weights = None\n",
        "    self.bias = None\n",
        "\n",
        "  def sigmoid(self, z):\n",
        "    return 1 / (1 + np.exp(-z))\n",
        "\n",
        "  def fit(self, X, y):\n",
        "    n_samples, n_features = X.shape\n",
        "\n",
        "    # Flatten y to ensure it's 1D\n",
        "    y = y.flatten()\n",
        "\n",
        "        # Initialize parameters\n",
        "    self.weights = np.zeros(n_features)\n",
        "    self.bias = 0\n",
        "\n",
        "        # Gradient Descent\n",
        "    for _ in range(self.n_iters):\n",
        "      # Predict using current model parameters\n",
        "      linear_model = np.dot(X, self.weights) + self.bias\n",
        "      y_pred = self.sigmoid(linear_model)\n",
        "\n",
        "      # Compute gradients\n",
        "      dw = (1 / n_samples) * np.dot(X.T, (y_pred - y))\n",
        "      db = (1 / n_samples) * np.sum(y_pred - y)\n",
        "\n",
        "      # Update parameters\n",
        "      self.weights -= self.lr * dw\n",
        "      self.bias -= self.lr * db\n",
        "\n",
        "\n",
        "  def predict(self, X):\n",
        "    linear_model = np.dot(X, self.weights) + self.bias\n",
        "    y_pred = self.sigmoid(linear_model)\n",
        "    y_class = [1 if i > 0.5 else 0 for i in y_pred]\n",
        "    return y_class\n"
      ]
    },
    {
      "cell_type": "code",
      "execution_count": 4,
      "metadata": {
        "id": "pxMg9tdGwgYB"
      },
      "outputs": [],
      "source": [
        "# KNN\n",
        "class KNN:\n",
        "  def __init__(self, k=3):\n",
        "    self.k = k\n",
        "    self.X_train = None\n",
        "    self.y_train = None\n",
        "\n",
        "  def fit(self, X, y):\n",
        "    self.X_train = X\n",
        "    self.y_train = y\n",
        "\n",
        "  def predict(self, X):\n",
        "    y_pred = [self._predict(x) for x in X]\n",
        "    return np.array(y_pred)\n",
        "\n",
        "  def _predict(self, x):\n",
        "        # Compute distances between x and all examples in the training set\n",
        "    distances = [np.sqrt(np.sum((x - x_train)**2)) for x_train in self.X_train]\n",
        "        # Sort by distance and return indices of the first k neighbors\n",
        "    k_indices = np.argsort(distances)[:self.k]\n",
        "        # Extract the labels of the k nearest neighbor training samples and flatten them\n",
        "    k_nearest_labels = [self.y_train[i][0] for i in k_indices]\n",
        "        # Return the most common class label\n",
        "    most_common = np.bincount(k_nearest_labels).argmax()\n",
        "    return most_common\n",
        "\n"
      ]
    },
    {
      "cell_type": "code",
      "execution_count": 5,
      "metadata": {
        "id": "slEtRYwCsg0P"
      },
      "outputs": [],
      "source": [
        "# Evaluation Function\n",
        "def evaluate_acc(y_true, y_pred):\n",
        "    accuracy = np.mean(y_true == y_pred)\n",
        "    return accuracy\n"
      ]
    },
    {
      "cell_type": "code",
      "execution_count": 6,
      "metadata": {
        "id": "gh_sYzrkh3tS"
      },
      "outputs": [],
      "source": [
        "def k_fold_cross_validation(X, y, model_class, k=5, **model_args):\n",
        "    \"\"\"\n",
        "    Performs k-fold cross-validation.\n",
        "\n",
        "    Parameters:\n",
        "    - X: Features\n",
        "    - y: Targets\n",
        "    - model_class: The class of the model to be used (e.g., KNN, LogisticRegression)\n",
        "    - k: Number of folds\n",
        "    - model_args: Additional arguments to pass to the model_class constructor\n",
        "\n",
        "    Returns:\n",
        "    - A list of accuracy scores for each fold\n",
        "    \"\"\"\n",
        "\n",
        "    # Number of data points\n",
        "    n = len(X)\n",
        "\n",
        "    # Indices for the data points\n",
        "    indices = np.arange(n)\n",
        "\n",
        "    # Shuffle indices\n",
        "    np.random.shuffle(indices)\n",
        "\n",
        "    # Split indices into k partitions\n",
        "    partitions = np.array_split(indices, k)\n",
        "\n",
        "    accuracy_scores = []\n",
        "\n",
        "    # For each partition, treat it as validation and the rest as training\n",
        "    for i in range(k):\n",
        "        train_indices = np.concatenate([partitions[j] for j in range(k) if j != i])\n",
        "        val_indices = partitions[i]\n",
        "\n",
        "        X_train, y_train = X[train_indices], y[train_indices]\n",
        "        X_val, y_val = X[val_indices], y[val_indices]\n",
        "\n",
        "        # Initialize and train model\n",
        "        model = model_class(**model_args)\n",
        "        model.fit(X_train, y_train)\n",
        "\n",
        "        # Predict and evaluate\n",
        "        y_val_pred = model.predict(X_val)\n",
        "        accuracy = evaluate_acc(y_val, y_val_pred)\n",
        "        accuracy_scores.append(accuracy)\n",
        "\n",
        "    return accuracy_scores\n"
      ]
    },
    {
      "cell_type": "markdown",
      "metadata": {
        "id": "kL9VmPI7CIWt"
      },
      "source": [
        "# Ionosphere"
      ]
    },
    {
      "cell_type": "code",
      "execution_count": 7,
      "metadata": {
        "id": "Q81cCZAYp2aS",
        "colab": {
          "base_uri": "https://localhost:8080/"
        },
        "outputId": "8048f504-d9ce-444b-97d4-6a540a017617"
      },
      "outputs": [
        {
          "output_type": "stream",
          "name": "stdout",
          "text": [
            "{'uci_id': 52, 'name': 'Ionosphere', 'repository_url': 'https://archive.ics.uci.edu/dataset/52/ionosphere', 'data_url': 'https://archive.ics.uci.edu/static/public/52/data.csv', 'abstract': 'Classification of radar returns from the ionosphere', 'area': 'Physics and Chemistry', 'tasks': ['Classification'], 'characteristics': ['Multivariate'], 'num_instances': 351, 'num_features': 34, 'feature_types': ['Integer', 'Real'], 'demographics': [], 'target_col': ['Class'], 'index_col': None, 'has_missing_values': 'no', 'missing_values_symbol': None, 'year_of_dataset_creation': 1989, 'last_updated': 'Sun Jan 01 1989', 'dataset_doi': '10.24432/C5W01B', 'creators': ['V. Sigillito', 'S. Wing', 'L. Hutton', 'K. Baker'], 'intro_paper': None, 'additional_info': {'summary': 'This radar data was collected by a system in Goose Bay, Labrador.  This system consists of a phased array of 16 high-frequency antennas with a total transmitted power on the order of 6.4 kilowatts.  See the paper for more details.  The targets were free electrons in the ionosphere. \"Good\" radar returns are those showing evidence of some type of structure in the ionosphere.  \"Bad\" returns are those that do not; their signals pass through the ionosphere.  \\r\\n\\r\\nReceived signals were processed using an autocorrelation function whose arguments are the time of a pulse and the pulse number.  There were 17 pulse numbers for the Goose Bay system.  Instances in this databse are described by 2 attributes per pulse number, corresponding to the complex values returned by the function resulting from the complex electromagnetic signal.', 'purpose': None, 'funded_by': None, 'instances_represent': None, 'recommended_data_splits': None, 'sensitive_data': None, 'preprocessing_description': None, 'variable_info': '-- All 34 are continuous\\r\\n-- The 35th attribute is either \"good\" or \"bad\" according to the definition summarized above.  This is a binary classification task.\\r\\n', 'citation': None}}\n",
            "           name     role         type demographic description units  \\\n",
            "0    Attribute1  Feature   Continuous        None        None  None   \n",
            "1    Attribute2  Feature   Continuous        None        None  None   \n",
            "2    Attribute3  Feature   Continuous        None        None  None   \n",
            "3    Attribute4  Feature   Continuous        None        None  None   \n",
            "4    Attribute5  Feature   Continuous        None        None  None   \n",
            "5    Attribute6  Feature   Continuous        None        None  None   \n",
            "6    Attribute7  Feature   Continuous        None        None  None   \n",
            "7    Attribute8  Feature   Continuous        None        None  None   \n",
            "8    Attribute9  Feature   Continuous        None        None  None   \n",
            "9   Attribute10  Feature   Continuous        None        None  None   \n",
            "10  Attribute11  Feature   Continuous        None        None  None   \n",
            "11  Attribute12  Feature   Continuous        None        None  None   \n",
            "12  Attribute13  Feature   Continuous        None        None  None   \n",
            "13  Attribute14  Feature   Continuous        None        None  None   \n",
            "14  Attribute15  Feature   Continuous        None        None  None   \n",
            "15  Attribute16  Feature   Continuous        None        None  None   \n",
            "16  Attribute17  Feature   Continuous        None        None  None   \n",
            "17  Attribute18  Feature   Continuous        None        None  None   \n",
            "18  Attribute19  Feature   Continuous        None        None  None   \n",
            "19  Attribute20  Feature   Continuous        None        None  None   \n",
            "20  Attribute21  Feature   Continuous        None        None  None   \n",
            "21  Attribute22  Feature   Continuous        None        None  None   \n",
            "22  Attribute23  Feature   Continuous        None        None  None   \n",
            "23  Attribute24  Feature   Continuous        None        None  None   \n",
            "24  Attribute25  Feature   Continuous        None        None  None   \n",
            "25  Attribute26  Feature   Continuous        None        None  None   \n",
            "26  Attribute27  Feature   Continuous        None        None  None   \n",
            "27  Attribute28  Feature   Continuous        None        None  None   \n",
            "28  Attribute29  Feature   Continuous        None        None  None   \n",
            "29  Attribute30  Feature   Continuous        None        None  None   \n",
            "30  Attribute31  Feature   Continuous        None        None  None   \n",
            "31  Attribute32  Feature   Continuous        None        None  None   \n",
            "32  Attribute33  Feature   Continuous        None        None  None   \n",
            "33  Attribute34  Feature   Continuous        None        None  None   \n",
            "34        Class   Target  Categorical        None        None  None   \n",
            "\n",
            "   missing_values  \n",
            "0              no  \n",
            "1              no  \n",
            "2              no  \n",
            "3              no  \n",
            "4              no  \n",
            "5              no  \n",
            "6              no  \n",
            "7              no  \n",
            "8              no  \n",
            "9              no  \n",
            "10             no  \n",
            "11             no  \n",
            "12             no  \n",
            "13             no  \n",
            "14             no  \n",
            "15             no  \n",
            "16             no  \n",
            "17             no  \n",
            "18             no  \n",
            "19             no  \n",
            "20             no  \n",
            "21             no  \n",
            "22             no  \n",
            "23             no  \n",
            "24             no  \n",
            "25             no  \n",
            "26             no  \n",
            "27             no  \n",
            "28             no  \n",
            "29             no  \n",
            "30             no  \n",
            "31             no  \n",
            "32             no  \n",
            "33             no  \n",
            "34             no  \n"
          ]
        }
      ],
      "source": [
        "# fetch dataset\n",
        "ionosphere = fetch_ucirepo(id=52)\n",
        "\n",
        "# data (as pandas dataframes)\n",
        "ionosphereX = ionosphere.data.features\n",
        "ionospherey = ionosphere.data.targets\n",
        "\n",
        "# metadata\n",
        "print(ionosphere.metadata)\n",
        "\n",
        "# variable information\n",
        "print(ionosphere.variables)\n"
      ]
    },
    {
      "cell_type": "code",
      "execution_count": 8,
      "metadata": {
        "id": "0gHRJYXvsVoV",
        "colab": {
          "base_uri": "https://localhost:8080/"
        },
        "outputId": "93a4750d-6662-4698-8be4-774e870ca878"
      },
      "outputs": [
        {
          "output_type": "stream",
          "name": "stderr",
          "text": [
            "<ipython-input-8-a82711471d83>:3: FutureWarning: Downcasting behavior in `replace` is deprecated and will be removed in a future version. To retain the old behavior, explicitly call `result.infer_objects(copy=False)`. To opt-in to the future behavior, set `pd.set_option('future.no_silent_downcasting', True)`\n",
            "  ionospherey = ionospherey.replace('b',0)\n"
          ]
        }
      ],
      "source": [
        "# Load the datasets into NumPy objects\n",
        "ionospherey = ionospherey.replace('g',1)\n",
        "ionospherey = ionospherey.replace('b',0)\n",
        "ionosphereX_np = ionosphereX.values\n",
        "ionospherey_np = ionospherey.values"
      ]
    },
    {
      "cell_type": "code",
      "execution_count": 9,
      "metadata": {
        "id": "LYD3-XzisjMy"
      },
      "outputs": [],
      "source": [
        "#Split the data\n",
        "ionosphereX_train, ionosphereX_test, ionospherey_train, ionospherey_test = train_test_split(ionosphereX_np, ionospherey_np, test_size=0.2, random_state=10)"
      ]
    },
    {
      "cell_type": "code",
      "execution_count": 10,
      "metadata": {
        "id": "mCBUk47pssA-",
        "colab": {
          "base_uri": "https://localhost:8080/"
        },
        "outputId": "82e16df2-940e-45a8-a32e-560d18570e93"
      },
      "outputs": [
        {
          "output_type": "stream",
          "name": "stdout",
          "text": [
            "Accuracy: 0.6562190041658401\n"
          ]
        }
      ],
      "source": [
        "# Initialize and train the logistic regression model\n",
        "ionosphere_model = LogisticRegression(lr=0.001, n_iters=1000)\n",
        "ionosphere_model.fit(ionosphereX_train, ionospherey_train)\n",
        "\n",
        "# Predict and evaluate\n",
        "ionospherey_pred = ionosphere_model.predict(ionosphereX_test)\n",
        "ionosphere_accuracy = evaluate_acc(ionospherey_test, ionospherey_pred)\n",
        "print(\"Accuracy:\", ionosphere_accuracy)"
      ]
    },
    {
      "cell_type": "code",
      "execution_count": 11,
      "metadata": {
        "id": "b8CPyCoVwihK",
        "colab": {
          "base_uri": "https://localhost:8080/",
          "height": 356
        },
        "outputId": "911b01aa-0f74-4825-ca96-ad90b7cf8011"
      },
      "outputs": [
        {
          "output_type": "error",
          "ename": "KeyboardInterrupt",
          "evalue": "",
          "traceback": [
            "\u001b[0;31m---------------------------------------------------------------------------\u001b[0m",
            "\u001b[0;31mKeyboardInterrupt\u001b[0m                         Traceback (most recent call last)",
            "\u001b[0;32m<ipython-input-11-906d9c1070f1>\u001b[0m in \u001b[0;36m<cell line: 5>\u001b[0;34m()\u001b[0m\n\u001b[1;32m      6\u001b[0m     \u001b[0mknn\u001b[0m \u001b[0;34m=\u001b[0m \u001b[0mKNN\u001b[0m\u001b[0;34m(\u001b[0m\u001b[0mk\u001b[0m\u001b[0;34m=\u001b[0m\u001b[0mk\u001b[0m\u001b[0;34m)\u001b[0m\u001b[0;34m\u001b[0m\u001b[0;34m\u001b[0m\u001b[0m\n\u001b[1;32m      7\u001b[0m     \u001b[0mknn\u001b[0m\u001b[0;34m.\u001b[0m\u001b[0mfit\u001b[0m\u001b[0;34m(\u001b[0m\u001b[0mionosphereX_train\u001b[0m\u001b[0;34m,\u001b[0m \u001b[0mionospherey_train\u001b[0m\u001b[0;34m)\u001b[0m\u001b[0;34m\u001b[0m\u001b[0;34m\u001b[0m\u001b[0m\n\u001b[0;32m----> 8\u001b[0;31m     \u001b[0mionospherey_test_pred\u001b[0m \u001b[0;34m=\u001b[0m \u001b[0mknn\u001b[0m\u001b[0;34m.\u001b[0m\u001b[0mpredict\u001b[0m\u001b[0;34m(\u001b[0m\u001b[0mionosphereX_test\u001b[0m\u001b[0;34m)\u001b[0m\u001b[0;34m\u001b[0m\u001b[0;34m\u001b[0m\u001b[0m\n\u001b[0m\u001b[1;32m      9\u001b[0m     \u001b[0mionosphere_Kaccuracy\u001b[0m \u001b[0;34m=\u001b[0m \u001b[0mevaluate_acc\u001b[0m\u001b[0;34m(\u001b[0m\u001b[0mionospherey_test\u001b[0m\u001b[0;34m,\u001b[0m \u001b[0mionospherey_test_pred\u001b[0m\u001b[0;34m)\u001b[0m\u001b[0;34m\u001b[0m\u001b[0;34m\u001b[0m\u001b[0m\n\u001b[1;32m     10\u001b[0m     \u001b[0mperformances\u001b[0m\u001b[0;34m.\u001b[0m\u001b[0mappend\u001b[0m\u001b[0;34m(\u001b[0m\u001b[0mionosphere_Kaccuracy\u001b[0m\u001b[0;34m)\u001b[0m\u001b[0;34m\u001b[0m\u001b[0;34m\u001b[0m\u001b[0m\n",
            "\u001b[0;32m<ipython-input-4-1b60c594afde>\u001b[0m in \u001b[0;36mpredict\u001b[0;34m(self, X)\u001b[0m\n\u001b[1;32m     11\u001b[0m \u001b[0;34m\u001b[0m\u001b[0m\n\u001b[1;32m     12\u001b[0m   \u001b[0;32mdef\u001b[0m \u001b[0mpredict\u001b[0m\u001b[0;34m(\u001b[0m\u001b[0mself\u001b[0m\u001b[0;34m,\u001b[0m \u001b[0mX\u001b[0m\u001b[0;34m)\u001b[0m\u001b[0;34m:\u001b[0m\u001b[0;34m\u001b[0m\u001b[0;34m\u001b[0m\u001b[0m\n\u001b[0;32m---> 13\u001b[0;31m     \u001b[0my_pred\u001b[0m \u001b[0;34m=\u001b[0m \u001b[0;34m[\u001b[0m\u001b[0mself\u001b[0m\u001b[0;34m.\u001b[0m\u001b[0m_predict\u001b[0m\u001b[0;34m(\u001b[0m\u001b[0mx\u001b[0m\u001b[0;34m)\u001b[0m \u001b[0;32mfor\u001b[0m \u001b[0mx\u001b[0m \u001b[0;32min\u001b[0m \u001b[0mX\u001b[0m\u001b[0;34m]\u001b[0m\u001b[0;34m\u001b[0m\u001b[0;34m\u001b[0m\u001b[0m\n\u001b[0m\u001b[1;32m     14\u001b[0m     \u001b[0;32mreturn\u001b[0m \u001b[0mnp\u001b[0m\u001b[0;34m.\u001b[0m\u001b[0marray\u001b[0m\u001b[0;34m(\u001b[0m\u001b[0my_pred\u001b[0m\u001b[0;34m)\u001b[0m\u001b[0;34m\u001b[0m\u001b[0;34m\u001b[0m\u001b[0m\n\u001b[1;32m     15\u001b[0m \u001b[0;34m\u001b[0m\u001b[0m\n",
            "\u001b[0;32m<ipython-input-4-1b60c594afde>\u001b[0m in \u001b[0;36m<listcomp>\u001b[0;34m(.0)\u001b[0m\n\u001b[1;32m     11\u001b[0m \u001b[0;34m\u001b[0m\u001b[0m\n\u001b[1;32m     12\u001b[0m   \u001b[0;32mdef\u001b[0m \u001b[0mpredict\u001b[0m\u001b[0;34m(\u001b[0m\u001b[0mself\u001b[0m\u001b[0;34m,\u001b[0m \u001b[0mX\u001b[0m\u001b[0;34m)\u001b[0m\u001b[0;34m:\u001b[0m\u001b[0;34m\u001b[0m\u001b[0;34m\u001b[0m\u001b[0m\n\u001b[0;32m---> 13\u001b[0;31m     \u001b[0my_pred\u001b[0m \u001b[0;34m=\u001b[0m \u001b[0;34m[\u001b[0m\u001b[0mself\u001b[0m\u001b[0;34m.\u001b[0m\u001b[0m_predict\u001b[0m\u001b[0;34m(\u001b[0m\u001b[0mx\u001b[0m\u001b[0;34m)\u001b[0m \u001b[0;32mfor\u001b[0m \u001b[0mx\u001b[0m \u001b[0;32min\u001b[0m \u001b[0mX\u001b[0m\u001b[0;34m]\u001b[0m\u001b[0;34m\u001b[0m\u001b[0;34m\u001b[0m\u001b[0m\n\u001b[0m\u001b[1;32m     14\u001b[0m     \u001b[0;32mreturn\u001b[0m \u001b[0mnp\u001b[0m\u001b[0;34m.\u001b[0m\u001b[0marray\u001b[0m\u001b[0;34m(\u001b[0m\u001b[0my_pred\u001b[0m\u001b[0;34m)\u001b[0m\u001b[0;34m\u001b[0m\u001b[0;34m\u001b[0m\u001b[0m\n\u001b[1;32m     15\u001b[0m \u001b[0;34m\u001b[0m\u001b[0m\n",
            "\u001b[0;32m<ipython-input-4-1b60c594afde>\u001b[0m in \u001b[0;36m_predict\u001b[0;34m(self, x)\u001b[0m\n\u001b[1;32m     16\u001b[0m   \u001b[0;32mdef\u001b[0m \u001b[0m_predict\u001b[0m\u001b[0;34m(\u001b[0m\u001b[0mself\u001b[0m\u001b[0;34m,\u001b[0m \u001b[0mx\u001b[0m\u001b[0;34m)\u001b[0m\u001b[0;34m:\u001b[0m\u001b[0;34m\u001b[0m\u001b[0;34m\u001b[0m\u001b[0m\n\u001b[1;32m     17\u001b[0m         \u001b[0;31m# Compute distances between x and all examples in the training set\u001b[0m\u001b[0;34m\u001b[0m\u001b[0;34m\u001b[0m\u001b[0m\n\u001b[0;32m---> 18\u001b[0;31m     \u001b[0mdistances\u001b[0m \u001b[0;34m=\u001b[0m \u001b[0;34m[\u001b[0m\u001b[0mnp\u001b[0m\u001b[0;34m.\u001b[0m\u001b[0msqrt\u001b[0m\u001b[0;34m(\u001b[0m\u001b[0mnp\u001b[0m\u001b[0;34m.\u001b[0m\u001b[0msum\u001b[0m\u001b[0;34m(\u001b[0m\u001b[0;34m(\u001b[0m\u001b[0mx\u001b[0m \u001b[0;34m-\u001b[0m \u001b[0mx_train\u001b[0m\u001b[0;34m)\u001b[0m\u001b[0;34m**\u001b[0m\u001b[0;36m2\u001b[0m\u001b[0;34m)\u001b[0m\u001b[0;34m)\u001b[0m \u001b[0;32mfor\u001b[0m \u001b[0mx_train\u001b[0m \u001b[0;32min\u001b[0m \u001b[0mself\u001b[0m\u001b[0;34m.\u001b[0m\u001b[0mX_train\u001b[0m\u001b[0;34m]\u001b[0m\u001b[0;34m\u001b[0m\u001b[0;34m\u001b[0m\u001b[0m\n\u001b[0m\u001b[1;32m     19\u001b[0m         \u001b[0;31m# Sort by distance and return indices of the first k neighbors\u001b[0m\u001b[0;34m\u001b[0m\u001b[0;34m\u001b[0m\u001b[0m\n\u001b[1;32m     20\u001b[0m     \u001b[0mk_indices\u001b[0m \u001b[0;34m=\u001b[0m \u001b[0mnp\u001b[0m\u001b[0;34m.\u001b[0m\u001b[0margsort\u001b[0m\u001b[0;34m(\u001b[0m\u001b[0mdistances\u001b[0m\u001b[0;34m)\u001b[0m\u001b[0;34m[\u001b[0m\u001b[0;34m:\u001b[0m\u001b[0mself\u001b[0m\u001b[0;34m.\u001b[0m\u001b[0mk\u001b[0m\u001b[0;34m]\u001b[0m\u001b[0;34m\u001b[0m\u001b[0;34m\u001b[0m\u001b[0m\n",
            "\u001b[0;32m<ipython-input-4-1b60c594afde>\u001b[0m in \u001b[0;36m<listcomp>\u001b[0;34m(.0)\u001b[0m\n\u001b[1;32m     16\u001b[0m   \u001b[0;32mdef\u001b[0m \u001b[0m_predict\u001b[0m\u001b[0;34m(\u001b[0m\u001b[0mself\u001b[0m\u001b[0;34m,\u001b[0m \u001b[0mx\u001b[0m\u001b[0;34m)\u001b[0m\u001b[0;34m:\u001b[0m\u001b[0;34m\u001b[0m\u001b[0;34m\u001b[0m\u001b[0m\n\u001b[1;32m     17\u001b[0m         \u001b[0;31m# Compute distances between x and all examples in the training set\u001b[0m\u001b[0;34m\u001b[0m\u001b[0;34m\u001b[0m\u001b[0m\n\u001b[0;32m---> 18\u001b[0;31m     \u001b[0mdistances\u001b[0m \u001b[0;34m=\u001b[0m \u001b[0;34m[\u001b[0m\u001b[0mnp\u001b[0m\u001b[0;34m.\u001b[0m\u001b[0msqrt\u001b[0m\u001b[0;34m(\u001b[0m\u001b[0mnp\u001b[0m\u001b[0;34m.\u001b[0m\u001b[0msum\u001b[0m\u001b[0;34m(\u001b[0m\u001b[0;34m(\u001b[0m\u001b[0mx\u001b[0m \u001b[0;34m-\u001b[0m \u001b[0mx_train\u001b[0m\u001b[0;34m)\u001b[0m\u001b[0;34m**\u001b[0m\u001b[0;36m2\u001b[0m\u001b[0;34m)\u001b[0m\u001b[0;34m)\u001b[0m \u001b[0;32mfor\u001b[0m \u001b[0mx_train\u001b[0m \u001b[0;32min\u001b[0m \u001b[0mself\u001b[0m\u001b[0;34m.\u001b[0m\u001b[0mX_train\u001b[0m\u001b[0;34m]\u001b[0m\u001b[0;34m\u001b[0m\u001b[0;34m\u001b[0m\u001b[0m\n\u001b[0m\u001b[1;32m     19\u001b[0m         \u001b[0;31m# Sort by distance and return indices of the first k neighbors\u001b[0m\u001b[0;34m\u001b[0m\u001b[0;34m\u001b[0m\u001b[0m\n\u001b[1;32m     20\u001b[0m     \u001b[0mk_indices\u001b[0m \u001b[0;34m=\u001b[0m \u001b[0mnp\u001b[0m\u001b[0;34m.\u001b[0m\u001b[0margsort\u001b[0m\u001b[0;34m(\u001b[0m\u001b[0mdistances\u001b[0m\u001b[0;34m)\u001b[0m\u001b[0;34m[\u001b[0m\u001b[0;34m:\u001b[0m\u001b[0mself\u001b[0m\u001b[0;34m.\u001b[0m\u001b[0mk\u001b[0m\u001b[0;34m]\u001b[0m\u001b[0;34m\u001b[0m\u001b[0;34m\u001b[0m\u001b[0m\n",
            "\u001b[0;32m/usr/local/lib/python3.10/dist-packages/numpy/core/fromnumeric.py\u001b[0m in \u001b[0;36m_sum_dispatcher\u001b[0;34m(a, axis, dtype, out, keepdims, initial, where)\u001b[0m\n\u001b[1;32m   2170\u001b[0m \u001b[0;34m\u001b[0m\u001b[0m\n\u001b[1;32m   2171\u001b[0m \u001b[0;34m\u001b[0m\u001b[0m\n\u001b[0;32m-> 2172\u001b[0;31m def _sum_dispatcher(a, axis=None, dtype=None, out=None, keepdims=None,\n\u001b[0m\u001b[1;32m   2173\u001b[0m                     initial=None, where=None):\n\u001b[1;32m   2174\u001b[0m     \u001b[0;32mreturn\u001b[0m \u001b[0;34m(\u001b[0m\u001b[0ma\u001b[0m\u001b[0;34m,\u001b[0m \u001b[0mout\u001b[0m\u001b[0;34m)\u001b[0m\u001b[0;34m\u001b[0m\u001b[0;34m\u001b[0m\u001b[0m\n",
            "\u001b[0;31mKeyboardInterrupt\u001b[0m: "
          ]
        }
      ],
      "source": [
        "# Find best k-num for KNN\n",
        "k_values = range(1, 50)  # Checking k from 1 to 50 as an example\n",
        "performances = []\n",
        "\n",
        "for k in k_values:\n",
        "    knn = KNN(k=k)\n",
        "    knn.fit(ionosphereX_train, ionospherey_train)\n",
        "    ionospherey_test_pred = knn.predict(ionosphereX_test)\n",
        "    ionosphere_Kaccuracy = evaluate_acc(ionospherey_test, ionospherey_test_pred)\n",
        "    performances.append(ionosphere_Kaccuracy)\n",
        "\n",
        "ionosphere_best_k = k_values[np.argmax(performances)]\n",
        "print(f\"Best k is {ionosphere_best_k} with validation accuracy of {max(performances)*100:.2f}%\")"
      ]
    },
    {
      "cell_type": "code",
      "execution_count": 12,
      "metadata": {
        "id": "GAr68uifixp-",
        "colab": {
          "base_uri": "https://localhost:8080/",
          "height": 211
        },
        "outputId": "0f6997ed-57e3-40f2-8693-d0da2ecb8bb9"
      },
      "outputs": [
        {
          "output_type": "stream",
          "name": "stdout",
          "text": [
            "Average accuracy of Logistic Regression across 15-folds: 63.26%\n"
          ]
        },
        {
          "output_type": "error",
          "ename": "NameError",
          "evalue": "name 'ionosphere_best_k' is not defined",
          "traceback": [
            "\u001b[0;31m---------------------------------------------------------------------------\u001b[0m",
            "\u001b[0;31mNameError\u001b[0m                                 Traceback (most recent call last)",
            "\u001b[0;32m<ipython-input-12-de0e195c8f75>\u001b[0m in \u001b[0;36m<cell line: 9>\u001b[0;34m()\u001b[0m\n\u001b[1;32m      7\u001b[0m \u001b[0;34m\u001b[0m\u001b[0m\n\u001b[1;32m      8\u001b[0m \u001b[0;31m# for KNN\u001b[0m\u001b[0;34m\u001b[0m\u001b[0;34m\u001b[0m\u001b[0m\n\u001b[0;32m----> 9\u001b[0;31m \u001b[0maccuracies\u001b[0m \u001b[0;34m=\u001b[0m \u001b[0mk_fold_cross_validation\u001b[0m\u001b[0;34m(\u001b[0m\u001b[0mionosphereX_np\u001b[0m\u001b[0;34m,\u001b[0m \u001b[0mionospherey_np\u001b[0m\u001b[0;34m,\u001b[0m \u001b[0mKNN\u001b[0m\u001b[0;34m,\u001b[0m \u001b[0mnum_folds\u001b[0m\u001b[0;34m,\u001b[0m \u001b[0mk\u001b[0m\u001b[0;34m=\u001b[0m\u001b[0mionosphere_best_k\u001b[0m\u001b[0;34m)\u001b[0m\u001b[0;34m\u001b[0m\u001b[0;34m\u001b[0m\u001b[0m\n\u001b[0m\u001b[1;32m     10\u001b[0m \u001b[0mprint\u001b[0m\u001b[0;34m(\u001b[0m\u001b[0;34mf\"Average accuracy of KNN across {num_folds}-folds: {np.mean(accuracies)*100:.2f}%\"\u001b[0m\u001b[0;34m)\u001b[0m\u001b[0;34m\u001b[0m\u001b[0;34m\u001b[0m\u001b[0m\n",
            "\u001b[0;31mNameError\u001b[0m: name 'ionosphere_best_k' is not defined"
          ]
        }
      ],
      "source": [
        "# k-folds cross-validation\n",
        "num_folds = 15\n",
        "\n",
        "# for Logistic Regression\n",
        "accuracies = k_fold_cross_validation(ionosphereX_np, ionospherey_np, LogisticRegression, num_folds, lr=0.001, n_iters=1000)\n",
        "print(f\"Average accuracy of Logistic Regression across {num_folds}-folds: {np.mean(accuracies)*100:.2f}%\")\n",
        "\n",
        "# for KNN\n",
        "accuracies = k_fold_cross_validation(ionosphereX_np, ionospherey_np, KNN, num_folds, k=ionosphere_best_k)\n",
        "print(f\"Average accuracy of KNN across {num_folds}-folds: {np.mean(accuracies)*100:.2f}%\")\n"
      ]
    },
    {
      "cell_type": "code",
      "execution_count": 13,
      "metadata": {
        "id": "hAHW20UHqCmR",
        "colab": {
          "base_uri": "https://localhost:8080/",
          "height": 1000
        },
        "outputId": "c0997117-c30c-4400-cb81-53950a0938e6"
      },
      "outputs": [
        {
          "output_type": "stream",
          "name": "stdout",
          "text": [
            "Ratio between g and b is:\n",
            " Class\n",
            "1    225\n",
            "0    126\n",
            "Name: count, dtype: int64\n"
          ]
        },
        {
          "output_type": "display_data",
          "data": {
            "text/plain": [
              "<Figure size 1250x1250 with 30 Axes>"
            ],
            "image/png": "[encoded data removed]"
          },
          "metadata": {}
        },
        {
          "output_type": "stream",
          "name": "stdout",
          "text": [
            "Class distribution:\n",
            "Class\n",
            "1    225\n",
            "0    126\n",
            "Name: count, dtype: int64\n",
            "\n",
            "Numerical feature distribution:\n",
            "       Attribute1  Attribute2  Attribute3  Attribute4  Attribute5  Attribute6  \\\n",
            "count  351.000000       351.0  351.000000  351.000000  351.000000  351.000000   \n",
            "mean     0.891738         0.0    0.641342    0.044372    0.601068    0.115889   \n",
            "std      0.311155         0.0    0.497708    0.441435    0.519862    0.460810   \n",
            "min      0.000000         0.0   -1.000000   -1.000000   -1.000000   -1.000000   \n",
            "25%      1.000000         0.0    0.472135   -0.064735    0.412660   -0.024795   \n",
            "50%      1.000000         0.0    0.871110    0.016310    0.809200    0.022800   \n",
            "75%      1.000000         0.0    1.000000    0.194185    1.000000    0.334655   \n",
            "max      1.000000         0.0    1.000000    1.000000    1.000000    1.000000   \n",
            "\n",
            "       Attribute7  Attribute8  Attribute9  Attribute10  ...  Attribute25  \\\n",
            "count  351.000000  351.000000  351.000000   351.000000  ...   351.000000   \n",
            "mean     0.550095    0.119360    0.511848     0.181345  ...     0.396135   \n",
            "std      0.492654    0.520750    0.507066     0.483851  ...     0.578451   \n",
            "min     -1.000000   -1.000000   -1.000000    -1.000000  ...    -1.000000   \n",
            "25%      0.211310   -0.054840    0.087110    -0.048075  ...     0.000000   \n",
            "50%      0.728730    0.014710    0.684210     0.018290  ...     0.553890   \n",
            "75%      0.969240    0.445675    0.953240     0.534195  ...     0.905240   \n",
            "max      1.000000    1.000000    1.000000     1.000000  ...     1.000000   \n",
            "\n",
            "       Attribute26  Attribute27  Attribute28  Attribute29  Attribute30  \\\n",
            "count   351.000000   351.000000   351.000000   351.000000   351.000000   \n",
            "mean     -0.071187     0.541641    -0.069538     0.378445    -0.027907   \n",
            "std       0.508495     0.516205     0.550025     0.575886     0.507974   \n",
            "min      -1.000000    -1.000000    -1.000000    -1.000000    -1.000000   \n",
            "25%      -0.332390     0.286435    -0.443165     0.000000    -0.236885   \n",
            "50%      -0.015050     0.708240    -0.017690     0.496640     0.000000   \n",
            "75%       0.156765     0.999945     0.153535     0.883465     0.154075   \n",
            "max       1.000000     1.000000     1.000000     1.000000     1.000000   \n",
            "\n",
            "       Attribute31  Attribute32  Attribute33  Attribute34  \n",
            "count   351.000000   351.000000   351.000000   351.000000  \n",
            "mean      0.352514    -0.003794     0.349364     0.014480  \n",
            "std       0.571483     0.513574     0.522663     0.468337  \n",
            "min      -1.000000    -1.000000    -1.000000    -1.000000  \n",
            "25%       0.000000    -0.242595     0.000000    -0.165350  \n",
            "50%       0.442770     0.000000     0.409560     0.000000  \n",
            "75%       0.857620     0.200120     0.813765     0.171660  \n",
            "max       1.000000     1.000000     1.000000     1.000000  \n",
            "\n",
            "[8 rows x 34 columns]\n",
            "\n",
            "Correlation matrix:\n",
            "             Attribute1  Attribute2  Attribute3  Attribute4  Attribute5  \\\n",
            "Attribute1     1.000000         NaN    0.302034   -0.006529    0.156152   \n",
            "Attribute2          NaN         NaN         NaN         NaN         NaN   \n",
            "Attribute3     0.302034         NaN    1.000000    0.143365    0.476587   \n",
            "Attribute4    -0.006529         NaN    0.143365    1.000000    0.001152   \n",
            "Attribute5     0.156152         NaN    0.476587    0.001152    1.000000   \n",
            "Attribute6     0.127606         NaN    0.025768   -0.190308    0.038323   \n",
            "Attribute7     0.221867         NaN    0.440254   -0.054030    0.597075   \n",
            "Attribute8     0.027079         NaN    0.008717    0.255003   -0.029794   \n",
            "Attribute9     0.189242         NaN    0.471614   -0.302317    0.450454   \n",
            "Attribute10   -0.051883         NaN    0.047916    0.207697   -0.034236   \n",
            "Attribute11    0.034138         NaN    0.325016   -0.190090    0.449829   \n",
            "Attribute12    0.072216         NaN    0.169981    0.315877    0.042896   \n",
            "Attribute13    0.102558         NaN    0.217597   -0.149216    0.482118   \n",
            "Attribute14    0.199230         NaN    0.164550    0.236604    0.127217   \n",
            "Attribute15    0.113622         NaN    0.198306   -0.253150    0.398878   \n",
            "Attribute16    0.100474         NaN    0.094301    0.185872    0.087992   \n",
            "Attribute17    0.057783         NaN    0.221446   -0.251143    0.277932   \n",
            "Attribute18    0.076019         NaN    0.172002   -0.147451    0.027588   \n",
            "Attribute19    0.200237         NaN    0.285280   -0.332213    0.221532   \n",
            "Attribute20    0.019230         NaN    0.150800    0.167244    0.041959   \n",
            "Attribute21    0.173828         NaN    0.149374   -0.281084    0.326223   \n",
            "Attribute22   -0.153902         NaN    0.138065   -0.035401    0.163663   \n",
            "Attribute23    0.011772         NaN    0.250832   -0.143719    0.502878   \n",
            "Attribute24   -0.082586         NaN   -0.012570    0.164196    0.098274   \n",
            "Attribute25    0.016717         NaN    0.304898   -0.104632    0.243063   \n",
            "Attribute26    0.149789         NaN   -0.073202   -0.236987   -0.032254   \n",
            "Attribute27   -0.203100         NaN    0.077911   -0.046910    0.140899   \n",
            "Attribute28   -0.010725         NaN    0.123345    0.000743    0.184517   \n",
            "Attribute29    0.133632         NaN    0.344459   -0.041090    0.257646   \n",
            "Attribute30   -0.121415         NaN    0.057890    0.342301    0.051068   \n",
            "Attribute31    0.167031         NaN    0.246653   -0.172276    0.399840   \n",
            "Attribute32   -0.100914         NaN   -0.009332   -0.122788    0.025681   \n",
            "Attribute33    0.162962         NaN    0.263343   -0.153964    0.383467   \n",
            "Attribute34    0.010788         NaN    0.000584    0.034608   -0.099478   \n",
            "\n",
            "             Attribute6  Attribute7  Attribute8  Attribute9  Attribute10  ...  \\\n",
            "Attribute1     0.127606    0.221867    0.027079    0.189242    -0.051883  ...   \n",
            "Attribute2          NaN         NaN         NaN         NaN          NaN  ...   \n",
            "Attribute3     0.025768    0.440254    0.008717    0.471614     0.047916  ...   \n",
            "Attribute4    -0.190308   -0.054030    0.255003   -0.302317     0.207697  ...   \n",
            "Attribute5     0.038323    0.597075   -0.029794    0.450454    -0.034236  ...   \n",
            "Attribute6     1.000000   -0.010227    0.274747   -0.120712     0.200080  ...   \n",
            "Attribute7    -0.010227    1.000000   -0.150424    0.461889    -0.090268  ...   \n",
            "Attribute8     0.274747   -0.150424    1.000000   -0.336013     0.373567  ...   \n",
            "Attribute9    -0.120712    0.461889   -0.336013    1.000000    -0.251950  ...   \n",
            "Attribute10    0.200080   -0.090268    0.373567   -0.251950     1.000000  ...   \n",
            "Attribute11   -0.291447    0.412876   -0.364003    0.670813    -0.337374  ...   \n",
            "Attribute12    0.163933   -0.020395    0.429146   -0.167705     0.441505  ...   \n",
            "Attribute13   -0.307197    0.631060   -0.355875    0.562072    -0.406358  ...   \n",
            "Attribute14    0.135206    0.083657    0.253740   -0.088988     0.323813  ...   \n",
            "Attribute15   -0.359342    0.615407   -0.352216    0.618461    -0.374908  ...   \n",
            "Attribute16    0.157740   -0.021493    0.419673   -0.032689     0.334135  ...   \n",
            "Attribute17   -0.316705    0.379737   -0.491863    0.633574    -0.392047  ...   \n",
            "Attribute18    0.188073    0.115927    0.068717    0.200786     0.130752  ...   \n",
            "Attribute19   -0.208571    0.372572   -0.400523    0.673490    -0.471665  ...   \n",
            "Attribute20   -0.061261    0.158917    0.077624    0.067314    -0.001418  ...   \n",
            "Attribute21   -0.114966    0.586627   -0.370473    0.492411    -0.404818  ...   \n",
            "Attribute22   -0.132422    0.190805   -0.212007    0.237322    -0.040414  ...   \n",
            "Attribute23   -0.215778    0.373186   -0.270624    0.352218    -0.318463  ...   \n",
            "Attribute24   -0.286541    0.112717    0.007045    0.161258     0.101850  ...   \n",
            "Attribute25   -0.177576    0.286749   -0.179928    0.356564    -0.254785  ...   \n",
            "Attribute26    0.041787    0.087734   -0.133023    0.107478    -0.043680  ...   \n",
            "Attribute27   -0.175433    0.097566   -0.254130    0.172210    -0.250947  ...   \n",
            "Attribute28   -0.068775    0.109391    0.072373    0.146817     0.072018  ...   \n",
            "Attribute29   -0.029392    0.300632   -0.139725    0.329813    -0.123296  ...   \n",
            "Attribute30   -0.158090   -0.015158    0.078585   -0.031983    -0.008578  ...   \n",
            "Attribute31   -0.100240    0.415216   -0.166682    0.316021    -0.155661  ...   \n",
            "Attribute32    0.316802   -0.008323    0.152381   -0.067499    -0.015640  ...   \n",
            "Attribute33    0.016899    0.545881   -0.200860    0.344814    -0.203629  ...   \n",
            "Attribute34    0.185215   -0.076460    0.360610   -0.095597     0.098104  ...   \n",
            "\n",
            "             Attribute25  Attribute26  Attribute27  Attribute28  Attribute29  \\\n",
            "Attribute1      0.016717     0.149789    -0.203100    -0.010725     0.133632   \n",
            "Attribute2           NaN          NaN          NaN          NaN          NaN   \n",
            "Attribute3      0.304898    -0.073202     0.077911     0.123345     0.344459   \n",
            "Attribute4     -0.104632    -0.236987    -0.046910     0.000743    -0.041090   \n",
            "Attribute5      0.243063    -0.032254     0.140899     0.184517     0.257646   \n",
            "Attribute6     -0.177576     0.041787    -0.175433    -0.068775    -0.029392   \n",
            "Attribute7      0.286749     0.087734     0.097566     0.109391     0.300632   \n",
            "Attribute8     -0.179928    -0.133023    -0.254130     0.072373    -0.139725   \n",
            "Attribute9      0.356564     0.107478     0.172210     0.146817     0.329813   \n",
            "Attribute10    -0.254785    -0.043680    -0.250947     0.072018    -0.123296   \n",
            "Attribute11     0.365821     0.131849     0.292281     0.197369     0.396851   \n",
            "Attribute12    -0.233369    -0.076828    -0.227890     0.061292    -0.208294   \n",
            "Attribute13     0.364645     0.197266     0.290095     0.146800     0.277995   \n",
            "Attribute14    -0.209360     0.070563    -0.313597     0.066965    -0.215050   \n",
            "Attribute15     0.456812     0.228787     0.339516     0.164177     0.355917   \n",
            "Attribute16    -0.265366     0.179892    -0.313300     0.219421    -0.159639   \n",
            "Attribute17     0.554071     0.129545     0.427263     0.168507     0.404276   \n",
            "Attribute18    -0.175657     0.415094    -0.199799     0.289871    -0.118047   \n",
            "Attribute19     0.549837     0.173517     0.424692     0.205673     0.473187   \n",
            "Attribute20    -0.200276     0.397429    -0.165945     0.272236    -0.213057   \n",
            "Attribute21     0.553704     0.160227     0.398951     0.073413     0.479619   \n",
            "Attribute22    -0.078714     0.396342    -0.031281     0.407093    -0.086614   \n",
            "Attribute23     0.533583     0.051802     0.569176     0.207700     0.540443   \n",
            "Attribute24    -0.080108     0.352872    -0.036682     0.376951    -0.167937   \n",
            "Attribute25     1.000000    -0.077006     0.503526     0.176257     0.650908   \n",
            "Attribute26    -0.077006     1.000000    -0.011314     0.432426    -0.113499   \n",
            "Attribute27     0.503526    -0.011314     1.000000     0.058253     0.509070   \n",
            "Attribute28     0.176257     0.432426     0.058253     1.000000     0.042002   \n",
            "Attribute29     0.650908    -0.113499     0.509070     0.042002     1.000000   \n",
            "Attribute30     0.013639     0.281075     0.163412     0.385475    -0.011000   \n",
            "Attribute31     0.516121    -0.162707     0.376400    -0.008136     0.553855   \n",
            "Attribute32     0.134478     0.340692     0.160318     0.500801     0.055997   \n",
            "Attribute33     0.460692    -0.085966     0.469326    -0.124826     0.579684   \n",
            "Attribute34     0.111086     0.221630     0.082969     0.376772     0.082504   \n",
            "\n",
            "             Attribute30  Attribute31  Attribute32  Attribute33  Attribute34  \n",
            "Attribute1     -0.121415     0.167031    -0.100914     0.162962     0.010788  \n",
            "Attribute2           NaN          NaN          NaN          NaN          NaN  \n",
            "Attribute3      0.057890     0.246653    -0.009332     0.263343     0.000584  \n",
            "Attribute4      0.342301    -0.172276    -0.122788    -0.153964     0.034608  \n",
            "Attribute5      0.051068     0.399840     0.025681     0.383467    -0.099478  \n",
            "Attribute6     -0.158090    -0.100240     0.316802     0.016899     0.185215  \n",
            "Attribute7     -0.015158     0.415216    -0.008323     0.545881    -0.076460  \n",
            "Attribute8      0.078585    -0.166682     0.152381    -0.200860     0.360610  \n",
            "Attribute9     -0.031983     0.316021    -0.067499     0.344814    -0.095597  \n",
            "Attribute10    -0.008578    -0.155661    -0.015640    -0.203629     0.098104  \n",
            "Attribute11     0.074600     0.294646     0.023922     0.339506    -0.152225  \n",
            "Attribute12     0.138842    -0.208855     0.010276    -0.181166     0.066584  \n",
            "Attribute13     0.094400     0.355473    -0.041629     0.473780    -0.065131  \n",
            "Attribute14     0.095677    -0.147949    -0.067790    -0.096091     0.096444  \n",
            "Attribute15     0.090009     0.445175    -0.013132     0.490879    -0.119929  \n",
            "Attribute16     0.146052    -0.183578     0.101401    -0.179906     0.241702  \n",
            "Attribute17     0.074604     0.358692     0.015888     0.360039    -0.063429  \n",
            "Attribute18     0.067712    -0.158096     0.256970    -0.059076     0.054113  \n",
            "Attribute19     0.085579     0.418580     0.124713     0.446093     0.001458  \n",
            "Attribute20     0.396781    -0.305049     0.125374    -0.107816     0.188940  \n",
            "Attribute21     0.071592     0.511278     0.121923     0.616620    -0.002596  \n",
            "Attribute22     0.323712    -0.075714     0.207718    -0.090417     0.132848  \n",
            "Attribute23     0.165890     0.538973     0.160531     0.503426     0.049284  \n",
            "Attribute24     0.364626    -0.127822     0.084291    -0.211597     0.094685  \n",
            "Attribute25     0.013639     0.516121     0.134478     0.460692     0.111086  \n",
            "Attribute26     0.281075    -0.162707     0.340692    -0.085966     0.221630  \n",
            "Attribute27     0.163412     0.376400     0.160318     0.469326     0.082969  \n",
            "Attribute28     0.385475    -0.008136     0.500801    -0.124826     0.376772  \n",
            "Attribute29    -0.011000     0.553855     0.055997     0.579684     0.082504  \n",
            "Attribute30     1.000000    -0.163586     0.297085    -0.180566     0.391271  \n",
            "Attribute31    -0.163586     1.000000    -0.028877     0.692408    -0.037579  \n",
            "Attribute32     0.297085    -0.028877     1.000000    -0.012998     0.514992  \n",
            "Attribute33    -0.180566     0.692408    -0.012998     1.000000    -0.131840  \n",
            "Attribute34     0.391271    -0.037579     0.514992    -0.131840     1.000000  \n",
            "\n",
            "[34 rows x 34 columns]\n"
          ]
        }
      ],
      "source": [
        "import pandas as pd\n",
        "import matplotlib.pyplot as plt\n",
        "import seaborn as sns\n",
        "\n",
        "\n",
        "class_distribution = ionospherey['Class'].value_counts()\n",
        "\n",
        "print(\"Ratio between g and b is:\\n\", class_distribution)\n",
        "numerical_feature_distribution = ionosphereX.describe()\n",
        "\n",
        "\n",
        "\n",
        "correlation_matrix = ionosphereX.corr()\n",
        "\n",
        "subset_features = ['Attribute1', 'Attribute2', 'Attribute3', 'Attribute4', 'Attribute5']\n",
        "scatter_subset = ionosphereX[subset_features]\n",
        "\n",
        "sns.pairplot(scatter_subset)\n",
        "plt.show()\n",
        "\n",
        "print(\"Class distribution:\")\n",
        "print(class_distribution)\n",
        "\n",
        "print(\"\\nNumerical feature distribution:\")\n",
        "print(numerical_feature_distribution)\n",
        "\n",
        "print(\"\\nCorrelation matrix:\")\n",
        "print(correlation_matrix)\n"
      ]
    },
    {
      "cell_type": "markdown",
      "metadata": {
        "id": "72qDVr8kCSh7"
      },
      "source": [
        "# Adult"
      ]
    },
    {
      "cell_type": "code",
      "execution_count": null,
      "metadata": {
        "id": "4o8Oe5AmqS0p"
      },
      "outputs": [],
      "source": [
        "from ucimlrepo import fetch_ucirepo\n",
        "\n",
        "# fetch dataset\n",
        "adult = fetch_ucirepo(id=2)\n",
        "\n",
        "# data (as pandas dataframes)\n",
        "adultX = adult.data.features\n",
        "adulty = adult.data.targets\n",
        "\n",
        "# metadata\n",
        "#print(adult.metadata)\n",
        "\n",
        "# variable information\n",
        "#print(adult.variables)\n",
        "\n",
        "\n",
        "# Change target to the binary value\n",
        "adulty = adulty.replace(['<=50K','<=50K.'],0)\n",
        "adulty = adulty.replace(['>50K','>50K.'],1)\n",
        "\n",
        "# these 2 loops remove any rows that have any missing data\n",
        "for i in range(len(adultX)-1, 0, -1):\n",
        "  for col in adultX:\n",
        "    if (str(adultX[col][i]) == '?' or adulty['income'][i] == '?'):\n",
        "      adultX = adultX.drop([i], axis = 0)\n",
        "      adulty = adulty.drop([i], axis = 0)\n",
        "      break\n",
        "print(adultX)\n",
        "print(adultX.isnull().sum())\n",
        "refined_dataset = adultX.drop(['fnlwgt', 'workclass', 'occupation', 'native-country'], axis=1)\n",
        "print(refined_dataset)\n",
        "print(refined_dataset.isnull().sum())\n",
        "# You should remove any examples with missing or malformed features and note this in your report.\n",
        "\n",
        "\n"
      ]
    },
    {
      "cell_type": "code",
      "execution_count": null,
      "metadata": {
        "id": "EXXZ-bDtmTde"
      },
      "outputs": [],
      "source": [
        "# Combine the feature set and the target\n",
        "combined = pd.concat([adultX, adulty], axis=1)\n",
        "\n",
        "# Drop rows with any missing values\n",
        "combined_clean = combined.dropna()\n",
        "\n",
        "# Split the cleaned dataset back into feature set and target\n",
        "adultX_clean = combined_clean.drop(columns=[adulty.columns[0]])\n",
        "adulty_clean = combined_clean[adulty.columns[0]]\n",
        "\n",
        "# One-hot encoding for categorical variables\n",
        "adultX_clean = pd.get_dummies(adultX_clean)\n",
        "\n",
        "# Convert target to binary: '>50K' as 1 and '<=50K' as 0\n",
        "adulty_clean = np.where((adulty_clean == '>50K') | (adulty_clean == '>50K.'), 1, 0).reshape(-1, 1)\n",
        "\n",
        "# Convert cleaned dataframe to NumPy array\n",
        "adultX_np = adultX_clean.to_numpy()\n",
        "adulty_np = adulty_clean"
      ]
    },
    {
      "cell_type": "code",
      "execution_count": null,
      "metadata": {
        "id": "VizZ5BTXmYdy"
      },
      "outputs": [],
      "source": [
        "#Split the data\n",
        "adultX_train, adultX_test, adulty_train, adulty_test = train_test_split(adultX_np, adulty_np, test_size=0.2, random_state=42)"
      ]
    },
    {
      "cell_type": "code",
      "execution_count": null,
      "metadata": {
        "id": "tkdHz-_Jn_Aq"
      },
      "outputs": [],
      "source": [
        "# Initialize and train the logistic regression model\n",
        "adult_model = LogisticRegression(lr=0.001, n_iters=1000)\n",
        "adult_model.fit(adultX_train, adulty_train)\n",
        "\n",
        "# Predict and evaluate\n",
        "adulty_pred = adult_model.predict(adultX_test)\n",
        "adult_accuracy = evaluate_acc(adulty_test, adulty_pred)\n",
        "print(\"Accuracy:\", adult_accuracy)"
      ]
    },
    {
      "cell_type": "code",
      "execution_count": null,
      "metadata": {
        "id": "ojdKvLoDqMi_"
      },
      "outputs": [],
      "source": [
        "# Find best k-num for KNN\n",
        "k_values = range(1, 2)  # Checking k from 1 to 5 as an example\n",
        "performances = []\n",
        "\n",
        "for k in k_values:\n",
        "    knn = KNN(k=k)\n",
        "    knn.fit(adultX_train, adulty_train)\n",
        "    adulty_test_pred = knn.predict(adultX_test)\n",
        "    adult_Kaccuracy = evaluate_acc(adulty_test, adulty_test_pred)\n",
        "    performances.append(adult_Kaccuracy)\n",
        "\n",
        "adult_best_k = k_values[np.argmax(performances)]\n",
        "print(f\"Best k is {adult_best_k} with validation accuracy of {max(performances)*100:.2f}%\")"
      ]
    },
    {
      "cell_type": "code",
      "execution_count": null,
      "metadata": {
        "id": "tesm2r_bqPQp"
      },
      "outputs": [],
      "source": [
        "# k-folds cross-validation\n",
        "num_folds = 15\n",
        "\n",
        "# for Logistic Regression\n",
        "accuracies = k_fold_cross_validation(adultX_np, adulty_np, LogisticRegression, num_folds, lr=0.001, n_iters=1000)\n",
        "print(f\"Average accuracy of Logistic Regression across {num_folds}-folds: {np.mean(accuracies)*100:.2f}%\")\n",
        "\n",
        "# for KNN\n",
        "accuracies = k_fold_cross_validation(adultX_np, adulty_np, KNN, num_folds, k=adult_best_k)\n",
        "print(f\"Average accuracy of KNN across {num_folds}-folds: {np.mean(accuracies)*100:.2f}%\")\n"
      ]
    },
    {
      "cell_type": "code",
      "execution_count": null,
      "metadata": {
        "id": "sTHQKXeBYp_9"
      },
      "outputs": [],
      "source": [
        "import numpy\n",
        "import statistics\n",
        "import matplotlib.pyplot as plt\n",
        "import seaborn as sns\n",
        "# Compute basic statistics on the data to understand it better. E.g., what are the distributions of the positive vs.\n",
        "# negative classes, what are the distributions of some of the numerical features? what are the correlations between\n",
        "# the features? how do the scatter plots of pair-wise features look like for some subset of features?\n",
        "\n",
        "\n",
        "print(\"Age\")\n",
        "age_mean = numpy.mean(adultX[\"age\"])\n",
        "age_median = numpy.median(adultX[\"age\"])\n",
        "age_std = statistics.stdev(adultX[\"age\"])\n",
        "print(\"Mean age: \", age_mean)\n",
        "print(\"Median Age: \", age_median)\n",
        "print(\"Std Age: \", age_std)\n",
        "\n",
        "\n",
        "print(\"Education_num\")\n",
        "edu_num_mean = numpy.mean(adultX[\"education-num\"])\n",
        "edu_num_median = numpy.median(adultX[\"education-num\"])\n",
        "edu_num_std = statistics.stdev(adultX[\"education-num\"])\n",
        "print(\"Mean education-num: \", edu_num_mean)\n",
        "print(\"Median education-num: \", edu_num_median)\n",
        "print(\"Std education-num: \", edu_num_std)\n",
        "\n",
        "\n",
        "print(\"capital-gain\")\n",
        "capital_gain_mean = numpy.mean(adultX[\"capital-gain\"])\n",
        "capital_gain_median = numpy.median(adultX[\"capital-gain\"])\n",
        "capital_gain_std = statistics.stdev(adultX[\"capital-gain\"])\n",
        "print(\"Mean education-num: \", capital_gain_mean)\n",
        "print(\"Median education-num: \", capital_gain_median)\n",
        "print(\"Std education-num: \", capital_gain_std)\n",
        "\n",
        "\n",
        "\n",
        "print(\"capital-loss\")\n",
        "capital_loss_mean = numpy.mean(adultX[\"capital-loss\"])\n",
        "capital_loss_median = numpy.median(adultX[\"capital-loss\"])\n",
        "capital_loss_std = statistics.stdev(adultX[\"capital-loss\"])\n",
        "print(\"Mean education-num: \", capital_loss_mean)\n",
        "print(\"Median education-num: \", capital_loss_median)\n",
        "print(\"Std education-num: \", capital_loss_std)\n",
        "\n",
        "\n",
        "\n",
        "print(\"hours-per-week\")\n",
        "hours_per_week_mean = numpy.mean(adultX[\"hours-per-week\"])\n",
        "hours_per_week_median = numpy.median(adultX[\"hours-per-week\"])\n",
        "hours_per_week_std = statistics.stdev(adultX[\"hours-per-week\"])\n",
        "print(\"Mean education-num: \", hours_per_week_mean)\n",
        "print(\"Median education-num: \", hours_per_week_median)\n",
        "print(\"Std education-num: \", hours_per_week_std)\n",
        "\n",
        "\n",
        "\n",
        "#Distribution of Income\n",
        "income = adulty[\"income\"].value_counts()\n",
        "plt.figure()\n",
        "plt.title('Income Distribution')\n",
        "plt.xlabel('Income')\n",
        "plt.ylabel('Count')\n",
        "plt.xticks(rotation=0)\n",
        "income.plot(kind='bar', color=['skyblue', 'orange'])\n",
        "plt.show()\n",
        "\n",
        "\n",
        "\n",
        "\n",
        "\n",
        "#Correlations between numerical features\n",
        "numerical_features = ['age', 'education-num', 'capital-gain', 'capital-loss', 'hours-per-week']\n",
        "numerical_corr = adultX[numerical_features].corr()\n",
        "plt.figure(figsize=(10, 8))\n",
        "sns.heatmap(numerical_corr, annot=True, cmap='coolwarm', fmt='.2f', linewidths=0.5)\n",
        "plt.title('Correlation Matrix')\n",
        "plt.show()\n",
        "\n",
        "\n",
        "\n",
        "\n",
        "\n"
      ]
    },
    {
      "cell_type": "markdown",
      "metadata": {
        "id": "c4HquA1OCX8_"
      },
      "source": [
        "# Rice Dataset\n"
      ]
    },
    {
      "cell_type": "code",
      "execution_count": null,
      "metadata": {
        "id": "XDaEMYi-CfFF"
      },
      "outputs": [],
      "source": [
        "import numpy as np\n",
        "import matplotlib.pyplot as plt\n",
        "import pandas as pd\n",
        "import seaborn as sn\n",
        "from ucimlrepo import fetch_ucirepo\n",
        "\n",
        "\n",
        "rice_cammeo_and_osmancik = fetch_ucirepo(id=545)\n",
        "\n",
        "# data (as pandas dataframes)\n",
        "rice_X = rice_cammeo_and_osmancik.data.features\n",
        "rice_y = rice_cammeo_and_osmancik.data.targets #cammeo =0, osmancik =1\n",
        "refined_rice_X = []\n",
        "for i in range(len(rice_X)):\n",
        "  temp = []\n",
        "  for col in rice_X:\n",
        "    temp.append(rice_X[col][i])\n",
        "  refined_rice_X.append(temp)\n",
        "\n",
        "#refined_rice_y = [0 if rice_y['Class'][i] == 'Cammeo' else 1 for i in range(len(rice_y))]\n",
        "rice_y = rice_y.replace('Cammeo', 0)\n",
        "rice_y = rice_y.replace('Osmancik', 1)\n",
        "refined_rice_y = rice_y.values"
      ]
    },
    {
      "cell_type": "code",
      "execution_count": null,
      "metadata": {
        "id": "EDvFFrcxGSlN"
      },
      "outputs": [],
      "source": [
        "plt.hist(rice_y)\n",
        "plt.gca().set(title='Frequency Histogram', ylabel='Count')\n",
        "plt.show()\n",
        "\n",
        "rice_features = ['Area', 'Perimeter', 'Major_Axis_Length', 'Minor_Axis_Length', 'Eccentricity', 'Convex_Area', 'Extent']\n",
        "rice_corr = rice_X[rice_features].corr()\n",
        "plt.figure(figsize=(10, 8))\n",
        "sn.heatmap(rice_corr, annot=True, cmap='coolwarm', fmt='.2f', linewidths=0.5)\n",
        "plt.title('Correlation Matrix')\n",
        "plt.show()\n",
        "\n",
        "rice_scatter_subset = rice_X[rice_features]\n",
        "sn.pairplot(rice_scatter_subset)\n",
        "plt.show()\n",
        "\n",
        "rice_num_features = rice_X.describe()\n",
        "\n",
        "print(\"Numerical Features of the Rice Dataset\")\n",
        "print(rice_num_features)"
      ]
    },
    {
      "cell_type": "code",
      "execution_count": null,
      "metadata": {
        "id": "kOHsQXuQ3IQS"
      },
      "outputs": [],
      "source": [
        "import statistics\n",
        "print(\"Area\")\n",
        "area_mean = np.mean(rice_X[\"Area\"])\n",
        "area_median = np.median(rice_X[\"Area\"])\n",
        "print(\"Mean Area: \", area_mean)\n",
        "print(\"Median Area: \", area_median)\n",
        "\n",
        "print(\"Perimeter\")\n",
        "perimeter_mean = np.mean(rice_X[\"Perimeter\"])\n",
        "perimeter_median = np.median(rice_X[\"Perimeter\"])\n",
        "print(\"Mean Area: \", perimeter_mean)\n",
        "print(\"Median Area: \", perimeter_median)\n",
        "\n",
        "print(\"Eccentricity\")\n",
        "eccentricity_mean = np.mean(rice_X[\"Eccentricity\"])\n",
        "eccentricity_median = np.median(rice_X[\"Eccentricity\"])\n",
        "print(\"Mean Area: \", eccentricity_mean)\n",
        "print(\"Median Area: \", eccentricity_median)\n",
        "\n",
        "print(\"Convex Area\")\n",
        "convex_mean = np.mean(rice_X[\"Convex_Area\"])\n",
        "convex_median = np.median(rice_X[\"Convex_Area\"])\n",
        "print(\"Mean Area: \", convex_mean)\n",
        "print(\"Median Area: \", convex_median)"
      ]
    },
    {
      "cell_type": "code",
      "execution_count": null,
      "metadata": {
        "colab": {
          "base_uri": "https://localhost:8080/"
        },
        "id": "m63hvmiWJlxX",
        "outputId": "1bf1f74a-7c93-4fae-b75f-64729072e452"
      },
      "outputs": [
        {
          "output_type": "stream",
          "name": "stdout",
          "text": [
            "Rice Dataset KNN Accuracy:  0.8753280839895013\n"
          ]
        }
      ],
      "source": [
        "import numpy as np\n",
        "import matplotlib.pyplot as plt\n",
        "import pandas as pd\n",
        "\n",
        "from collections import Counter\n",
        "\"\"\"\n",
        "class KNN:\n",
        "  def __init__(self, k=3):\n",
        "    self.k = k\n",
        "\n",
        "  def fit(self, X, y):\n",
        "      self.X_train = X\n",
        "      self.y_train = y\n",
        "\n",
        "  def euclidean_distance(self, x1, x2):\n",
        "      x1 = np.array(x1, dtype=float)\n",
        "      x2 = np.array(x2, dtype=float)\n",
        "      return np.sqrt(np.sum((x1 - x2) ** 2))\n",
        "\n",
        "  def predict(self, X):\n",
        "      y_pred = [self._predict(x) for x in X]\n",
        "      return np.array(y_pred)\n",
        "\n",
        "  def _predict(self, x):\n",
        "      # Compute distances\n",
        "      distances = [self.euclidean_distance(x, x_train) for x_train in self.X_train]\n",
        "\n",
        "      # Sort by distance and return indices of the first 'k' neighbors\n",
        "      k_indices = np.argsort(distances)[:self.k]\n",
        "\n",
        "      # Extract the labels of the 'k' nearest neighbor training samples\n",
        "      k_nearest_labels = [self.y_train[i] for i in k_indices]\n",
        "\n",
        "      # Return the most common class label among the k-nearest neighbors\n",
        "      most_common = np.bincount(k_nearest_labels)\n",
        "      return most_common.argmax()\n",
        "  def evaluate_acc(self, y_pred, y_test):\n",
        "    acc = np.sum(y_pred == y_test)/len(y_test)\n",
        "    return acc\n",
        "\"\"\"\n",
        "\n",
        "#X_rice_train, X_rice_test, y_rice_train, y_rice_test = train_test_split(refined_rice_X, refined_rice_y, test_size=0.2, random_state=123)\n",
        "split_index = int(len(refined_rice_X) * 0.8)\n",
        "X_rice_train = refined_rice_X[:split_index]\n",
        "X_rice_test = refined_rice_X[split_index:]\n",
        "\n",
        "y_rice_train = refined_rice_y[:split_index]\n",
        "y_rice_test = refined_rice_y[split_index:]\n",
        "#knn model\n",
        "knnModel = KNN(k=3)\n",
        "knnModel.fit(np.array(X_rice_train), np.array(y_rice_train))\n",
        "\n",
        "knn_predictions = knnModel.predict(np.array(X_rice_test))\n",
        "rice_knn_acc = evaluate_acc(knn_predictions, y_rice_test)\n",
        "print(\"Rice Dataset KNN Accuracy: \", rice_knn_acc)"
      ]
    },
    {
      "cell_type": "code",
      "execution_count": null,
      "metadata": {
        "colab": {
          "base_uri": "https://localhost:8080/"
        },
        "id": "Yzyl0f4epp_O",
        "outputId": "44487cc9-6591-4865-eeb8-d32e6d2e3af1"
      },
      "outputs": [
        {
          "output_type": "stream",
          "name": "stdout",
          "text": [
            "Logistic Regression Accuracy:  0.49081364829396323\n"
          ]
        }
      ],
      "source": [
        "import numpy as np\n",
        "import matplotlib.pyplot as plt\n",
        "import pandas as pd\n",
        "\n",
        "\"\"\"class LogisticRegression():\n",
        "  def __init__(self, lr=0.001, n_iters=1000):\n",
        "    self.lr = lr\n",
        "    self.n_iters = n_iters\n",
        "    self.weights = None\n",
        "    self.bias = None\n",
        "\n",
        "  def sigmoid(self, x):\n",
        "    return 1/(1+ np.exp(-x))\n",
        "\n",
        "  def fit(self, X, y):\n",
        "    n_samples , n_features = X.shape\n",
        "    self.weights = np.zeros(n_features, dtype=np.float64)\n",
        "    self.bias = 0\n",
        "\n",
        "    for i in range(self.n_iters):\n",
        "      linear = np.dot(X, self.weights) + self.bias\n",
        "      predictions = self.sigmoid(linear)\n",
        "\n",
        "      dw = (1/n_samples) * np.dot(X.T, (predictions - y))\n",
        "      db = (1/n_samples) * np.sum(predictions - y) #bias\n",
        "\n",
        "      self.weights = self.weights - self.lr * dw\n",
        "      self.bias = self.bias  - self.lr*db\n",
        "\n",
        "  def predict(self, X):\n",
        "    linear = np.dot(X,self.weights) + self.bias\n",
        "    y_predictions = self.sigmoid(linear)\n",
        "    predict = None\n",
        "\n",
        "    class_pred = [ 0 if y <= 0.5 else 1 for y in y_predictions]\n",
        "    return class_pred\n",
        "  def evaluate_acc(self, y_pred, y_test):\n",
        "    acc = 0\n",
        "    for i in range(len(y_test)):\n",
        "      if (y_pred[i] == y_test[i]):\n",
        "        acc = acc + 1\n",
        "    return acc/len(y_test)\n",
        "def evaluate_acc( y_pred, y_test):\n",
        "  acc = 0\n",
        "  for i in range(len(y_test)):\n",
        "    if (y_pred[i] == y_test[i]):\n",
        "      acc = acc + 1\n",
        "  return acc/len(y_test)\"\"\"\n",
        "#logistic Regression\n",
        "\n",
        "split_index = int(len(refined_rice_X) * 0.8)\n",
        "X_rice_train = refined_rice_X[:split_index]\n",
        "X_rice_test = refined_rice_X[split_index:]\n",
        "\n",
        "y_rice_train = refined_rice_y[:split_index]\n",
        "y_rice_test = refined_rice_y[split_index:]\n",
        "\n",
        "mean = np.mean(X_rice_train, axis = 0)\n",
        "std = np.std(X_rice_train, axis=0)\n",
        "X_rice_train2 = (X_rice_train - mean) / std\n",
        "\n",
        "LRModel = LogisticRegression()\n",
        "LRModel.fit(np.array(X_rice_train2), np.array(y_rice_train))\n",
        "\n",
        "mean = np.mean(X_rice_test, axis = 0)\n",
        "std = np.std(X_rice_test, axis=0)\n",
        "X_rice_test2 = (X_rice_test - mean) / std\n",
        "LR_predictions = LRModel.predict(X_rice_test2)\n",
        "\n",
        "#lr_acc = np.sum(LR_predictions == y_rice_train) / len(y_rice_test)\n",
        "rice_lr_acc = evaluate_acc(LR_predictions, y_rice_test)\n",
        "print(\"Logistic Regression Accuracy: \", rice_lr_acc)"
      ]
    },
    {
      "cell_type": "markdown",
      "metadata": {
        "id": "9yzk05h2FIaX"
      },
      "source": [
        "Logistic Regression accuracy is probably low because of the way I split the data into training and testing data. When I loaded the data into the array refined_rice_X and refined_rice_y, all the data with result 0 was at the start and all the results with result 1 were at the end. The testing data uses the last 20% of the original data so most of the results are probably of one result and all of the training was based on the other result.\n",
        "\n",
        "when spliting the data useing\n",
        "X_rice_train, X_rice_test, y_rice_train, y_rice_test = train_test_split(refined_rice_X, refined_rice_y, test_size=0.2, random_state=123)\n",
        "\n",
        "the accuracy of the logistic regression is 0.9173228346456693. That function shuffles the data and leads to better testing and training sets"
      ]
    },
    {
      "cell_type": "code",
      "execution_count": null,
      "metadata": {
        "id": "cBNyzi_68m33"
      },
      "outputs": [],
      "source": [
        "rice_scores = []\n",
        "for i in range(1, 11):\n",
        "  knnModel = KNN(k=i)\n",
        "  knnModel.fit(X_rice_train, y_rice_train)\n",
        "  knn_predictions = knnModel.predict(np.array(X_rice_test))\n",
        "  knn_acc = evaluate_acc(np.array(knn_predictions), np.array(y_rice_test))\n",
        "  rice_scores.append(knn_acc)\n",
        "\n",
        "print(rice_scores)\n",
        "print(\"The K value with the highest Accuracy is K=3 with an accuracy of \", rice_scores[2])\n"
      ]
    },
    {
      "cell_type": "code",
      "source": [
        "plt.title(\"Rice k-value comparison\")\n",
        "x = np.arange(1,11)\n",
        "y = np.array(rice_scores)\n",
        "plt.xlabel(\"K Value\")\n",
        "plt.ylabel(\"accuracy\")\n",
        "plt.plot(x, y,)\n",
        "plt.show()"
      ],
      "metadata": {
        "id": "4sQRc4cCvuYJ"
      },
      "execution_count": null,
      "outputs": []
    },
    {
      "cell_type": "code",
      "execution_count": null,
      "metadata": {
        "id": "UeMtaOB_EUNX"
      },
      "outputs": [],
      "source": [
        "LRModel = LogisticRegression(lr=0.01)\n",
        "LRModel.fit(np.array(X_rice_train2), np.array(y_rice_train))\n",
        "LR_predictions = LRModel.predict(X_rice_test2)\n",
        "lr_acc = evaluate_acc(LR_predictions, y_rice_test)\n",
        "print(\"Logistic Regression with LR=0.01 Accuracy: \", lr_acc)\n",
        "\n",
        "LRModel = LogisticRegression(lr=0.0001)\n",
        "LRModel.fit(np.array(X_rice_train2), np.array(y_rice_train))\n",
        "LR_predictions = LRModel.predict(X_rice_test2)\n",
        "lr_acc = evaluate_acc(LR_predictions, y_rice_test)\n",
        "print(\"Logistic Regression with LR=0.0001 Accuracy: \", lr_acc)\n",
        "\n",
        "LRModel = LogisticRegression(lr=0.00001)\n",
        "LRModel.fit(np.array(X_rice_train2), np.array(y_rice_train))\n",
        "LR_predictions = LRModel.predict(X_rice_test2)\n",
        "lr_acc = evaluate_acc(LR_predictions, y_rice_test)\n",
        "print(\"Logistic Regression with LR=0.00001 Accuracy: \", lr_acc)\n",
        "\n",
        "LRModel = LogisticRegression(lr=0.000001)\n",
        "LRModel.fit(np.array(X_rice_train2), np.array(y_rice_train))\n",
        "LR_predictions = LRModel.predict(X_rice_test2)\n",
        "lr_acc = evaluate_acc(LR_predictions, y_rice_test)\n",
        "print(\"Logistic Regression with LR=0.000001 Accuracy: \", lr_acc)"
      ]
    },
    {
      "cell_type": "code",
      "execution_count": null,
      "metadata": {
        "id": "QZx0M6DO2bnK"
      },
      "outputs": [],
      "source": [
        "LR_fold_rice_scores = k_fold_cross_validation(np.array(refined_rice_X), np.array(refined_rice_y), LogisticRegression, k=5)\n",
        "print(LR_fold_rice_scores)\n",
        "print(f\"Average accuracy of Logistic Regression across {num_folds}-folds: {np.mean(LR_fold_rice_scores)*100:.2f}%\")\n",
        "\n",
        "KNN_fold_rice_scores = k_fold_cross_validation(np.array(refined_rice_X), np.array(refined_rice_y), KNN, k=5)\n",
        "print(KNN_fold_rice_scores)\n",
        "print(f\"Average accuracy of KNN across {num_folds}-folds: {np.mean(KNN_fold_rice_scores)*100:.2f}%\")"
      ]
    },
    {
      "cell_type": "markdown",
      "metadata": {
        "id": "tGOJnJ3fCYcv"
      },
      "source": [
        "# Spambase"
      ]
    },
    {
      "cell_type": "code",
      "execution_count": null,
      "metadata": {
        "id": "p4KebygiCfli"
      },
      "outputs": [],
      "source": [
        "from ucimlrepo import fetch_ucirepo\n",
        "\n",
        "# fetch dataset\n",
        "spambase = fetch_ucirepo(id=94)\n",
        "\n",
        "# data (as pandas dataframes)\n",
        "spamX = spambase.data.features\n",
        "spamy = spambase.data.targets\n",
        "\n",
        "# metadata\n",
        "print(spambase.metadata)\n",
        "\n",
        "# variable information\n",
        "print(spambase.variables)\n",
        "\n",
        "spamX=spamX.dropna()\n",
        "\n",
        "print(spamX)\n",
        "print(spamy)\n",
        "\n",
        "spamX_numpy = spamX.to_numpy()\n",
        "spamy_numpy = spamy.to_numpy()\n"
      ]
    },
    {
      "cell_type": "code",
      "execution_count": null,
      "metadata": {
        "id": "jhx2d1fXYoaO"
      },
      "outputs": [],
      "source": [
        "import seaborn as sns\n",
        "# Count the occurrences of each class\n",
        "class_counts = spamy.value_counts()\n",
        "print(class_counts)\n",
        "# Create a bar chart for class distribution\n",
        "plt.figure(figsize=(8, 6))\n",
        "class_counts.plot(kind='bar', color=['blue', 'red'], edgecolor='black')\n",
        "plt.title('Email Distribution')\n",
        "plt.xlabel('Spam')\n",
        "plt.ylabel('Count')\n",
        "plt.xticks(rotation=0)  # Optional: Rotate x-axis labels if needed\n",
        "plt.grid(axis='y', linestyle='--', alpha=0.7)\n",
        "plt.show()\n",
        "\n",
        "# Calculate the correlation matrix\n",
        "correlation_matrix = spamX.corr()\n",
        "\n",
        "# Create a heatmap to visualize the correlation matrix\n",
        "plt.figure(figsize=(50, 30))\n",
        "sns.heatmap(correlation_matrix, annot=True, cmap='coolwarm', linewidths=0.5)\n",
        "plt.title('Correlation Matrix')\n",
        "plt.show()\n",
        "\n",
        "\n"
      ]
    },
    {
      "cell_type": "code",
      "execution_count": null,
      "metadata": {
        "colab": {
          "base_uri": "https://localhost:8080/"
        },
        "id": "pNpkPIo3zyMY",
        "outputId": "61ac013d-f6f5-4b7b-860e-3dc8e9603fce"
      },
      "outputs": [
        {
          "output_type": "stream",
          "name": "stderr",
          "text": [
            "<ipython-input-7-44ee19ba0726>:10: RuntimeWarning: overflow encountered in exp\n",
            "  return 1 / (1 + np.exp(-z))\n"
          ]
        },
        {
          "output_type": "stream",
          "name": "stdout",
          "text": [
            "Logistic regression accuracy: 0.5925438643027159\n",
            "KNN accuracy: [0.5201363763364422, 0.5391250835552632, 0.5224317145716842, 0.5362037439831369]\n",
            "Best k: 0.5391250835552632\n"
          ]
        }
      ],
      "source": [
        "#Split data\n",
        "spamX_numpy_train, spamX_numpy_test, spamy_numpy_train, spamy_numpy_test = train_test_split(spamX_numpy, spamy_numpy, test_size=0.2, random_state=20)\n",
        "#Logistic Regression\n",
        "spamlr=LogisticRegression(lr=0.01, n_iters=1000)\n",
        "spamlr.fit(spamX_numpy_train, spamy_numpy_train)\n",
        "spampr=spamlr.predict(spamX_numpy_test)\n",
        "spam_acc=evaluate_acc(spamy_numpy_test, spampr)\n",
        "print(\"Logistic regression accuracy:\", spam_acc)\n",
        "\n",
        "#KNN\n",
        "bestk=[]\n",
        "for i in range(1, 5):\n",
        "  spamknn=KNN(k=i)\n",
        "  spamknn.fit(spamX_numpy_train, spamy_numpy_train)\n",
        "  spamkpr=spamknn.predict(spamX_numpy_test)\n",
        "  spamk_acc=evaluate_acc(spamy_numpy_test, spamkpr)\n",
        "  bestk.append(spamk_acc)\n",
        "print(\"KNN accuracy:\", bestk)\n",
        "print(\"Best k:\", max(bestk))\n"
      ]
    }
  ],
  "metadata": {
    "colab": {
      "collapsed_sections": [
        "72qDVr8kCSh7"
      ],
      "provenance": []
    },
    "kernelspec": {
      "display_name": "Python 3",
      "name": "python3"
    },
    "language_info": {
      "name": "python"
    }
  },
  "nbformat": 4,
  "nbformat_minor": 0
}
